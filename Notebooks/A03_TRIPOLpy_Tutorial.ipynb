{
 "cells": [
  {
   "cell_type": "markdown",
   "metadata": {},
   "source": [
    "# A03. `TRIPOLpy` Tutorial"
   ]
  },
  {
   "cell_type": "markdown",
   "metadata": {},
   "source": [
    "Here I will reduce the 2019-05-03 TRIPOL observation.\n",
    "\n",
    "First, download and install [``TRIPOLpy`` package](https://github.com/ysBach/TRIPOLpy) (**please read the README** there). \n",
    "\n",
    "Refer to the [TRIPOL lecture note](https://github.com/ysBach/AO2019/blob/master/Notebooks/A02_TRIPOL.md) for how to access the data.\n",
    "\n",
    "Because there were some problems in the header of 2019-05-03 observation (``RET-ANG1``, which is the half-wave plate angle), you have to manually input the value. I chose this observation because it is rather different from usual TRIPOL data and you can experience how to overcome such problems within ``TRIPOLpy``.\n",
    "\n",
    "The contents below follow this format:\n",
    "```\n",
    "1. The code line is given.\n",
    "2. Simple explanation of the code line.\n",
    "3. The snippet of the original source code (for the full source code, please see TRIPOLpy)\n",
    "```\n",
    "\n",
    "* **NOTE**: the ``self`` in the first arguments below are for the python ``class``. Please ignore it if you want to utilize the snippets I showed here to your ``function`` object."
   ]
  },
  {
   "cell_type": "markdown",
   "metadata": {},
   "source": [
    "## 1. Importing and Setting Up"
   ]
  },
  {
   "cell_type": "code",
   "execution_count": 1,
   "metadata": {},
   "outputs": [],
   "source": [
    "from astropy.io import fits\n",
    "from pathlib import Path\n",
    "from tripolpy import preprocessor\n",
    "\n",
    "TOPPATH = Path('.')\n",
    "RAWPATH = TOPPATH / \"rawdata\""
   ]
  },
  {
   "cell_type": "markdown",
   "metadata": {},
   "source": [
    "## 2. Initiation"
   ]
  },
  {
   "cell_type": "code",
   "execution_count": null,
   "metadata": {},
   "outputs": [],
   "source": [
    "p = preprocessor.Preprocessor(topdir=TOPPATH, rawdir=RAWPATH)"
   ]
  },
  {
   "cell_type": "markdown",
   "metadata": {},
   "source": [
    "The above is identical to \n",
    "\n",
    "```python\n",
    "USEFUL_KEYS = [\"EXPTIME\", \"FILTER\", \"DATE-OBS\", \"RET-ANG1\", \"CCD_TEMP\",\n",
    "               \"CCD_COOL\", \"OBJECT\", \"EPOCH\", \"RA\", \"DEC\", \"ALT\", \"AZ\",\n",
    "               \"AIRMASS\"]\n",
    "p = preprocessor.Preprocessor(topdir=TOPPATH, rawdir=RAWPATH,\n",
    "                              summary_keywords=USEFUL_KEYS)\n",
    "```\n",
    "\n",
    "because the original source code (you can verify by yourself from the source code) is like this:\n",
    "```python\n",
    "class Preprocessor():\n",
    "    def __init__(self, topdir, rawdir, summary_keywords=USEFUL_KEYS):\n",
    "        \"\"\"\n",
    "        Parameters\n",
    "        ----------\n",
    "        topdir : path-like\n",
    "            The top directory of which all the other paths will be represented\n",
    "            relative to.\n",
    "\n",
    "        rawdir: path-like\n",
    "            The directory where all the FITS files are stored (without any\n",
    "            subdirectory)\n",
    "\n",
    "        summary_keywords: list of str, optional\n",
    "            The keywords of the header to be used for the summary table.\n",
    "        \"\"\"\n",
    "        # code goes here\n",
    "```"
   ]
  },
  {
   "cell_type": "markdown",
   "metadata": {},
   "source": [
    "## 3. Organize the TRIPOL images."
   ]
  },
  {
   "cell_type": "code",
   "execution_count": null,
   "metadata": {},
   "outputs": [],
   "source": [
    "p.organize_tripol(archive_dir=RAWPATH / \"archive\")"
   ]
  },
  {
   "cell_type": "markdown",
   "metadata": {},
   "source": [
    "This first **updates header** appropriately, and then **organizes** the files based on the header. It automatically finds bias, dark, flat, and object frames. For all such image types, it separates them first by filter and then by object name (``OBJECT`` key of the header).\n",
    "\n",
    "This is identical to use the following code:\n",
    "```python\n",
    "rename_by = [\"COUNTER\", \"FILTER\", \"OBJECT\", \"EXPOS\", \"RET-ANG1\"]\n",
    "mkdir_by = [\"FILTER\", \"OBJECT\"]\n",
    "p.organize_tripol(rename_by=rename_by,\n",
    "                  mkdir_by=mkdir_by, \n",
    "                  delimiter='_',\n",
    "                  archive_dir=RAWPATH / \"archive\")\n",
    "```\n",
    "\n",
    "This is because, by default, the ``.organize_tripol()`` method is defined as this:\n",
    "\n",
    "```python\n",
    "def organize_tripol(self,\n",
    "                    rename_by=[\"COUNTER\", \"FILTER\",\n",
    "                               \"OBJECT\", \"EXPOS\", \"RET-ANG1\"],\n",
    "                    mkdir_by=[\"FILTER\", \"OBJECT\"], delimiter='_',\n",
    "                    archive_dir=None, verbose=False):\n",
    "    ''' Rename FITS files after updating theur headers.\n",
    "        Parameters\n",
    "        ----------\n",
    "        fpath: path-like\n",
    "            The path to the target FITS file.\n",
    "        rename_by: list of str\n",
    "            The keywords in header to be used for the renaming of FITS files.\n",
    "            Each keyword values are connected by ``delimiter``.\n",
    "        mkdir_by: list of str, optional\n",
    "            The keys which will be used to make subdirectories to classify\n",
    "            files. If given, subdirectories will be made with the header value\n",
    "            of the keys.\n",
    "        delimiter: str, optional\n",
    "            The delimiter for the renaming.\n",
    "        archive_dir: path-like or None, optional\n",
    "            Where to move the original FITS file. If ``None``, the original file\n",
    "            will remain there. Deleting original FITS is dangerous so it is only\n",
    "            supported to move the files. You may delete files manually if\n",
    "            needed.\n",
    "    '''\n",
    "    # code goes here\n",
    "```\n",
    "\n",
    "* **TIP**: Now see the raw data directory. You can see the data are re-arranged into many separate folders and now have meaningful file names. Also many folders will have been generated by now."
   ]
  },
  {
   "cell_type": "markdown",
   "metadata": {},
   "source": [
    "## 4. Bias Combine (Master Bias or Master Zero)"
   ]
  },
  {
   "cell_type": "code",
   "execution_count": null,
   "metadata": {},
   "outputs": [],
   "source": [
    "p.make_bias(savedir=TOPPATH / \"calibration\")"
   ]
  },
  {
   "cell_type": "markdown",
   "metadata": {},
   "source": [
    "This extracts only the bias frames from the previously organized files and do bias combine. Then the master bias is saved to ``savedir``. \n",
    "\n",
    "This is identical to the following code:\n",
    "``` python\n",
    "MEDCOMB_KEYS = dict(overwrite=True,\n",
    "                    unit='adu',\n",
    "                    combine_method=\"median\",\n",
    "                    reject_method=None,\n",
    "                    combine_uncertainty_function=None)\n",
    "\n",
    "p.make_bias(savedir=TOPPATH / \"calibration\",\n",
    "            hdr_keys=\"OBJECT\", \n",
    "            hdr_vals=\"bias\",\n",
    "            group_by=[\"FILTER\"], \n",
    "            delimiter='_', \n",
    "            dtype='float32',\n",
    "            comb_kwargs=MEDCOMB_KEYS\n",
    "            )\n",
    "```\n",
    "\n",
    "Since the related source codes are too long, I only included core parts. If you are interested in, please check the original source code by yourself.\n",
    "\n",
    "\n",
    "```python\n",
    "def make_bias(self, savedir=None, hdr_keys=\"OBJECT\", hdr_vals=\"bias\",\n",
    "              group_by=[\"FILTER\"], delimiter='_', dtype='float32',\n",
    "              comb_kwargs=MEDCOMB_KEYS):\n",
    "    ''' Finds and make bias frames.\n",
    "    Parameters\n",
    "    ----------\n",
    "    savedir : path-like, optional.\n",
    "        The directory where the frames will be saved.\n",
    "\n",
    "    hdr_key : str or list of str, optional\n",
    "        The header keys to be used for the identification of the bias\n",
    "        frames. Each value should correspond to the same-index element of\n",
    "        ``hdr_val``.\n",
    "\n",
    "    hdr_val : str, float, int or list of such, optional\n",
    "        The header key and values to identify the bias frames. Each value\n",
    "        should correspond to the same-index element of ``hdr_key``.\n",
    "\n",
    "    group_by : None, str or list str, optional.\n",
    "        The header keywords to be used for grouping frames. For dark\n",
    "        frames, usual choice can be ``['EXPTIME']``.\n",
    "\n",
    "    delimiter : str, optional.\n",
    "        The delimiter for the renaming.\n",
    "\n",
    "    dtype : str or numpy.dtype object, optional.\n",
    "        The data type you want for the final master bias frame. It is \n",
    "        recommended to use ``float32`` or ``int16`` if there is no \n",
    "        specific reason.\n",
    "\n",
    "    comb_kwargs: dict or None, optional.\n",
    "        The parameters for ``combine_ccd``.\n",
    "    '''\n",
    "    # code goes here\n",
    "\n",
    "```\n",
    "\n",
    "```python\n",
    "def combine_ccd(fitslist, trim_fits_section=None, output=None, unit='adu',\n",
    "                subtract_frame=None, combine_method='median', reject_method=None,\n",
    "                normalize_exposure=False, exposure_key='EXPTIME',\n",
    "                combine_uncertainty_function=ccdproc_mad2sigma_func,\n",
    "                extension=0, dtype=np.float32, type_key=None, type_val=None,\n",
    "                output_verify='fix', overwrite=False,\n",
    "                **kwargs):\n",
    "    ''' Combining images\n",
    "    # See original source code for the details.\n",
    "    '''\n",
    "    # code goes here\n",
    "```"
   ]
  },
  {
   "cell_type": "markdown",
   "metadata": {},
   "source": [
    "## 5. Dark Combine (Master Dark for Each Exposure Time)"
   ]
  },
  {
   "cell_type": "code",
   "execution_count": null,
   "metadata": {},
   "outputs": [],
   "source": [
    "p.make_dark(savedir=TOPPATH / \"calibration\")"
   ]
  },
  {
   "cell_type": "markdown",
   "metadata": {},
   "source": [
    "This code makes dark frames. The dark images are grouped by filter and exposure time.\n",
    "\n",
    "This is identical to the following code:\n",
    "```python\n",
    "MEDCOMB_KEYS = dict(overwrite=True,\n",
    "                    unit='adu',\n",
    "                    combine_method=\"median\",\n",
    "                    reject_method=None,\n",
    "                    combine_uncertainty_function=None)\n",
    "\n",
    "p.make_dark(savedir=TOPPATH / \"calibration\",\n",
    "            hdr_keys=\"OBJECT\", \n",
    "            hdr_vals=\"dark\",\n",
    "            bias_sub=True,\n",
    "            group_by=[\"FILTER\", \"EXPTIME\"], \n",
    "            bias_grouped_by=[\"FILTER\"],\n",
    "            exposure_key=\"EXPTIME\", \n",
    "            dtype='float32',\n",
    "            delimiter='_', \n",
    "            comb_kwargs=MEDCOMB_KEYS)\n",
    "```\n",
    "\n",
    "The original method source code is like this: \n",
    "\n",
    "```python\n",
    "def make_dark(self, savedir=None, hdr_keys=\"OBJECT\", hdr_vals=\"dark\",\n",
    "              bias_sub=True,\n",
    "              group_by=[\"FILTER\", \"EXPTIME\"], bias_grouped_by=[\"FILTER\"],\n",
    "              exposure_key=\"EXPTIME\", dtype='float32',\n",
    "              delimiter='_', comb_kwargs=MEDCOMB_KEYS):\n",
    "    \"\"\" Makes and saves dark (bias subtracted) images.\n",
    "    Parameters\n",
    "    ----------\n",
    "    savedir: path-like, optional\n",
    "        The directory where the frames will be saved.\n",
    "\n",
    "    hdr_key : str or list of str, optional\n",
    "        The header keys to be used for the identification of the bias\n",
    "        frames. Each value should correspond to the same-index element of\n",
    "        ``hdr_val``.\n",
    "\n",
    "    hdr_val : str, float, int or list of such, optional\n",
    "        The header key and values to identify the bias frames. Each value\n",
    "        should correspond to the same-index element of ``hdr_key``.\n",
    "\n",
    "    bias_sub: bool, optional\n",
    "        If ``True``, subtracts bias from dark frames using self.biaspahts.\n",
    "\n",
    "    group_by: None, str or list str, optional\n",
    "        The header keywords to be used for grouping frames. For dark\n",
    "        frames, usual choice can be ``['EXPTIME']``.\n",
    "\n",
    "    bias_grouped_by: str or list of str, optional\n",
    "        How the bias frames are grouped by.\n",
    "\n",
    "    exposure_key: str, optional\n",
    "        If you want to make bias from a list of dark frames, you need to\n",
    "        let the function know the exposure time of the frames, so that the\n",
    "        miniimum exposure time frame will be used as bias. Default is\n",
    "        \"EXPTIME\".\n",
    "\n",
    "    comb_kwargs: dict or None, optional\n",
    "        The parameters for ``combine_ccd``.\n",
    "    \"\"\"\n",
    "    # Code goes here\n",
    "\n",
    "```"
   ]
  },
  {
   "cell_type": "markdown",
   "metadata": {},
   "source": [
    "## 6. Flat Combine (Master Flat)"
   ]
  },
  {
   "cell_type": "code",
   "execution_count": null,
   "metadata": {},
   "outputs": [],
   "source": [
    "p.make_flat(savedir=TOPPATH / \"calibration\", group_by=[\"FILTER\"])"
   ]
  },
  {
   "cell_type": "markdown",
   "metadata": {},
   "source": [
    "This makes flat images. First, it selects flat images for each filter. Then it again group by the half-wave plate angles. \n",
    "\n",
    "* **NOTE**: In 2019-05-03 observation, we took only half-wave plate angle of 0 degree. To use this flat throughout all the half-wave plate angles (which is not desired but the best way we can do given the data set), we forced the code **not** to distinguish flats based on the angle (header keyword is ``RET-ANG1``).\n",
    "\n",
    "The above is identical to the following code:\n",
    "```python\n",
    "MEDCOMB_KEYS = dict(overwrite=True,\n",
    "                    unit='adu',\n",
    "                    combine_method=\"median\",\n",
    "                    reject_method=None,\n",
    "                    combine_uncertainty_function=None)\n",
    "\n",
    "p.make_flat(savedir=TOPPATH / \"calibration\", group_by=[\"FILTER\"])\n",
    "```\n",
    "\n",
    "The original source code looks like below. As you can see, if you use ``.make_flat()`` without specifying ``group_by``, it will by default use ``group_by=[\"FILTER\", \"RET-ANG1\"]``. \n",
    "\n",
    "```python\n",
    "def make_flat(self, savedir=None,\n",
    "              hdr_keys=[\"OBJECT\"], hdr_vals=[\"flat\"],\n",
    "              group_by=[\"FILTER\", \"RET-ANG1\"],\n",
    "              bias_sub=True, dark_sub=True,\n",
    "              bias_grouped_by=[\"FILTER\"],\n",
    "              dark_grouped_by=[\"FILTER\", \"EXPTIME\"],\n",
    "              exposure_key=\"EXPTIME\",\n",
    "              comb_kwargs=MEDCOMB_KEYS, delimiter='_', dtype='float32'):\n",
    "    '''Makes and saves flat images.\n",
    "    Parameters\n",
    "    ----------\n",
    "    savedir: path-like, optional\n",
    "        The directory where the frames will be saved.\n",
    "\n",
    "    hdr_key : str or list of str, optional\n",
    "        The header keys to be used for the identification of the bias\n",
    "        frames. Each value should correspond to the same-index element of\n",
    "        ``hdr_val``.\n",
    "\n",
    "    hdr_val : str, float, int or list of such, optional\n",
    "        The header key and values to identify the bias frames. Each value\n",
    "        should correspond to the same-index element of ``hdr_key``.\n",
    "\n",
    "    bias_sub, dark_sub : bool, optional\n",
    "        If ``True``, subtracts bias and dark frames using ``self.biaspahts``\n",
    "        and ``self.darkpaths``.\n",
    "\n",
    "    group_by: None, str or list str, optional\n",
    "        The header keywords to be used for grouping frames. For dark\n",
    "        frames, usual choice can be ``['EXPTIME']``.\n",
    "\n",
    "    bias_grouped_by, dark_grouped_by : str or list of str, optional\n",
    "        How the bias and dark frames are grouped by.\n",
    "\n",
    "    exposure_key: str, optional\n",
    "        If you want to make bias from a list of dark frames, you need to\n",
    "        let the function know the exposure time of the frames, so that the\n",
    "        miniimum exposure time frame will be used as bias. Default is\n",
    "        \"EXPTIME\".\n",
    "\n",
    "    comb_kwargs: dict or None, optional\n",
    "        The parameters for ``combine_ccd``.\n",
    "    '''\n",
    "    # Code goes here\n",
    "```"
   ]
  },
  {
   "cell_type": "markdown",
   "metadata": {},
   "source": [
    "## 7. Preprocess at Once"
   ]
  },
  {
   "cell_type": "code",
   "execution_count": null,
   "metadata": {},
   "outputs": [],
   "source": [
    "summary_reduced = p.do_preproc(savedir=TOPPATH / \"processed\",\n",
    "                              flat_grouped_by=[\"FILTER\"])"
   ]
  },
  {
   "cell_type": "markdown",
   "metadata": {},
   "source": [
    "It now does the preprocessing and summarize the processed images as ``astropy Table`` object. \n",
    "\n",
    "It is identical to use\n",
    "```python\n",
    "summary_reduced = p.do_preproc(savedir=TOPPATH / \"processed\",\n",
    "                               delimiter='_', \n",
    "                               dtype='float32',\n",
    "                               bias_grouped_by=[\"FILTER\"],\n",
    "                               dark_grouped_by=[\"FILTER\", \"EXPTIME\"],\n",
    "                               flat_grouped_by=[\"FILTER\"],\n",
    "                               verbose_bdf=True, \n",
    "                               verbose_summary=False)\n",
    "```\n",
    "\n",
    "Note that, the original source code (see below), ``flat_grouped_by=[\"FILTER\", \"RET-ANG1\"]`` by default. As I did **NOT** use ``\"RET-ANG1\"`` (the half-wave plate angle) for the flat grouping, I had to use ``flat_grouped_by=[\"FILTER\"]``.\n",
    "\n",
    "```python\n",
    "def do_preproc(self, savedir=None, delimiter='_', dtype='float32',\n",
    "               bias_grouped_by=[\"FILTER\"],\n",
    "               dark_grouped_by=[\"FILTER\", \"EXPTIME\"],\n",
    "               flat_grouped_by=[\"FILTER\", \"RET-ANG1\"],\n",
    "               verbose_bdf=True, verbose_summary=False):\n",
    "    ''' Conduct the preprocessing using simplified ``bdf_process``.\n",
    "    Parameters\n",
    "    ----------\n",
    "    savedir: path-like, optional\n",
    "        The directory where the frames will be saved.\n",
    "\n",
    "    delimiter : str, optional.\n",
    "        The delimiter for the renaming.\n",
    "\n",
    "    dtype : str or numpy.dtype object, optional.\n",
    "        The data type you want for the final master bias frame. It is\n",
    "        recommended to use ``float32`` or ``int16`` if there is no\n",
    "        specific reason.\n",
    "\n",
    "    bias_grouped_by, dark_grouped_by : str or list of str, optional\n",
    "        How the bias, dark, and flat frames are grouped by.\n",
    "    '''\n",
    "    # Code goes here\n",
    "```\n"
   ]
  },
  {
   "cell_type": "markdown",
   "metadata": {},
   "source": [
    "## 8. View the Summary\n",
    "Finally, print out the results:"
   ]
  },
  {
   "cell_type": "code",
   "execution_count": null,
   "metadata": {},
   "outputs": [],
   "source": [
    "summary_reduced"
   ]
  },
  {
   "cell_type": "markdown",
   "metadata": {},
   "source": [
    "* **TIP**: You can view the resulting summary file with, e.g., Excel, by ``[your_RAWPATH]/summary_reduced.csv``."
   ]
  },
  {
   "cell_type": "code",
   "execution_count": null,
   "metadata": {},
   "outputs": [],
   "source": []
  }
 ],
 "metadata": {
  "kernelspec": {
   "display_name": "Python 3",
   "language": "python",
   "name": "python3"
  },
  "language_info": {
   "codemirror_mode": {
    "name": "ipython",
    "version": 3
   },
   "file_extension": ".py",
   "mimetype": "text/x-python",
   "name": "python",
   "nbconvert_exporter": "python",
   "pygments_lexer": "ipython3",
   "version": "3.6.8"
  }
 },
 "nbformat": 4,
 "nbformat_minor": 2
}
