{
 "cells": [
  {
   "cell_type": "markdown",
   "metadata": {},
   "source": [
    "### 3-1. Star Finder"
   ]
  },
  {
   "cell_type": "markdown",
   "metadata": {},
   "source": [
    "There is ``photutils`` documentation on [detecting objects](https://photutils.readthedocs.io/en/stable/detection.html). Here I will use the [``DAOStarFinder`` module](https://photutils.readthedocs.io/en/stable/api/photutils.DAOStarFinder.html#photutils.DAOStarFinder), which is an implementation of the algorithm first developed by P. Stetson, and used extensively for the last 30-40 years by professional astronomers."
   ]
  },
  {
   "cell_type": "code",
   "execution_count": null,
   "metadata": {},
   "outputs": [],
   "source": [
    "avg, med, std = sigma_clipped_stats(data) # default is 3-sigma, 5 iters\n",
    "thresh = 5 * std\n",
    "finder = DAOStarFinder(fwhm=4, threshold=thresh,   # In reality, FWHM must be measured a priori using, e.g., ``ginga``\n",
    "                       sharplo=0.2, sharphi=1.0,   # default values 0.2 and 1.0\n",
    "                       roundlo=-1.0, roundhi=1.0,  # default values -1 and +1\n",
    "                       sigma_radius=1.5,           # default values 1.5\n",
    "                       ratio=1.0,                  # 1.0: circular gaussian\n",
    "                       exclude_border=True)        # To exclude sources near edges\n",
    "\n",
    "# The DAOStarFinder object ``finder`` gets at least one input: the image.\n",
    "# Then it returns the astropy table which contains the aperture photometry results:\n",
    "found = finder(data)\n",
    "\n",
    "# Use ``found`` for aperture photometry:\n",
    "coords_SF = (found['xcentroid'], found['ycentroid'])\n",
    "apertures_SF = CAp(coords_SF, r=25)  \n",
    "\n",
    "# For visualization, make fake apertures to the queried objects\n",
    "apertures_PS1 = CAp(pos_stars, r=15)\n",
    "\n",
    "# Plot all\n",
    "fig, axs = plt.subplots(1, 1, figsize=(5, 6), sharex=False, sharey=False, gridspec_kw=None)\n",
    "zimshow(axs, data)\n",
    "apertures_SF.plot(color='k', lw=2, alpha=0.7)\n",
    "apertures_PS1.plot(color='red', lw=2, alpha=0.7)\n",
    "plt.tight_layout()"
   ]
  },
  {
   "cell_type": "markdown",
   "metadata": {},
   "source": [
    "* **HOMEWORK**: Change ``roundlo=-1.0, roundhi=1.0``, to ``roundlo=-.5, roundhi=.5``, then see our object, at the center of image, is not detected from star finder. This happens since the observation was made in non-sidereal tracking mode, i.e., the moving object (our asteroid) become slightly elliptical on the CCD (i.e., its ``round`` parameter gets larger)."
   ]
  },
  {
   "cell_type": "code",
   "execution_count": null,
   "metadata": {},
   "outputs": [],
   "source": []
  }
 ],
 "metadata": {
  "kernelspec": {
   "display_name": "Python 3",
   "language": "python",
   "name": "python3"
  },
  "language_info": {
   "codemirror_mode": {
    "name": "ipython",
    "version": 3
   },
   "file_extension": ".py",
   "mimetype": "text/x-python",
   "name": "python",
   "nbconvert_exporter": "python",
   "pygments_lexer": "ipython3",
   "version": "3.6.8"
  }
 },
 "nbformat": 4,
 "nbformat_minor": 2
}
